{
 "cells": [
  {
   "cell_type": "code",
   "execution_count": 1,
   "metadata": {},
   "outputs": [
    {
     "name": "stderr",
     "output_type": "stream",
     "text": [
      "/anaconda/lib/python3.6/site-packages/statsmodels/compat/pandas.py:56: FutureWarning: The pandas.core.datetools module is deprecated and will be removed in a future version. Please use the pandas.tseries module instead.\n",
      "  from pandas.core import datetools\n"
     ]
    }
   ],
   "source": [
    "import pandas as pd\n",
    "import ast\n",
    "\n",
    "import matplotlib.pyplot as plt\n",
    "\n",
    "from sklearn.preprocessing import MultiLabelBinarizer\n",
    "\n",
    "from nltk.stem import WordNetLemmatizer\n",
    "from nltk.tokenize import RegexpTokenizer\n",
    "from nltk.corpus import stopwords\n",
    "from sklearn.feature_extraction.text import CountVectorizer\n",
    "\n",
    "import statsmodels.api as sm"
   ]
  },
  {
   "cell_type": "markdown",
   "metadata": {},
   "source": [
    "## Elon Musk's Tweets"
   ]
  },
  {
   "cell_type": "code",
   "execution_count": 2,
   "metadata": {},
   "outputs": [],
   "source": [
    "elon = pd.read_csv('twitter/elonmusk_tweets.csv')"
   ]
  },
  {
   "cell_type": "code",
   "execution_count": 3,
   "metadata": {},
   "outputs": [],
   "source": [
    "elon.text = elon.text.str.lstrip('b')\n",
    "elon.created_at = pd.to_datetime(elon.created_at)\n",
    "elon['date'] = elon.created_at.apply(lambda x: x.date())"
   ]
  },
  {
   "cell_type": "code",
   "execution_count": 4,
   "metadata": {},
   "outputs": [
    {
     "data": {
      "text/html": [
       "<div>\n",
       "<style scoped>\n",
       "    .dataframe tbody tr th:only-of-type {\n",
       "        vertical-align: middle;\n",
       "    }\n",
       "\n",
       "    .dataframe tbody tr th {\n",
       "        vertical-align: top;\n",
       "    }\n",
       "\n",
       "    .dataframe thead th {\n",
       "        text-align: right;\n",
       "    }\n",
       "</style>\n",
       "<table border=\"1\" class=\"dataframe\">\n",
       "  <thead>\n",
       "    <tr style=\"text-align: right;\">\n",
       "      <th></th>\n",
       "      <th>id</th>\n",
       "      <th>created_at</th>\n",
       "      <th>text</th>\n",
       "      <th>date</th>\n",
       "    </tr>\n",
       "  </thead>\n",
       "  <tbody>\n",
       "    <tr>\n",
       "      <th>0</th>\n",
       "      <td>940620874952073216</td>\n",
       "      <td>2017-12-12 16:34:27</td>\n",
       "      <td>'35,000'</td>\n",
       "      <td>2017-12-12</td>\n",
       "    </tr>\n",
       "    <tr>\n",
       "      <th>1</th>\n",
       "      <td>940359019947999232</td>\n",
       "      <td>2017-12-11 23:13:56</td>\n",
       "      <td>'And those are just the really big ones. The P...</td>\n",
       "      <td>2017-12-11</td>\n",
       "    </tr>\n",
       "    <tr>\n",
       "      <th>2</th>\n",
       "      <td>940126370780160000</td>\n",
       "      <td>2017-12-11 07:49:28</td>\n",
       "      <td>'@Justin_Levy04 Safest flamethrower ever'</td>\n",
       "      <td>2017-12-11</td>\n",
       "    </tr>\n",
       "    <tr>\n",
       "      <th>3</th>\n",
       "      <td>940125978797281281</td>\n",
       "      <td>2017-12-11 07:47:54</td>\n",
       "      <td>'I know it\\xe2\\x80\\x99s a little off-brand, bu...</td>\n",
       "      <td>2017-12-11</td>\n",
       "    </tr>\n",
       "    <tr>\n",
       "      <th>4</th>\n",
       "      <td>940056523304181762</td>\n",
       "      <td>2017-12-11 03:11:55</td>\n",
       "      <td>'After 50k hats, we will start selling The Bor...</td>\n",
       "      <td>2017-12-11</td>\n",
       "    </tr>\n",
       "  </tbody>\n",
       "</table>\n",
       "</div>"
      ],
      "text/plain": [
       "                   id          created_at  \\\n",
       "0  940620874952073216 2017-12-12 16:34:27   \n",
       "1  940359019947999232 2017-12-11 23:13:56   \n",
       "2  940126370780160000 2017-12-11 07:49:28   \n",
       "3  940125978797281281 2017-12-11 07:47:54   \n",
       "4  940056523304181762 2017-12-11 03:11:55   \n",
       "\n",
       "                                                text        date  \n",
       "0                                           '35,000'  2017-12-12  \n",
       "1  'And those are just the really big ones. The P...  2017-12-11  \n",
       "2          '@Justin_Levy04 Safest flamethrower ever'  2017-12-11  \n",
       "3  'I know it\\xe2\\x80\\x99s a little off-brand, bu...  2017-12-11  \n",
       "4  'After 50k hats, we will start selling The Bor...  2017-12-11  "
      ]
     },
     "execution_count": 4,
     "metadata": {},
     "output_type": "execute_result"
    }
   ],
   "source": [
    "elon.head()"
   ]
  },
  {
   "cell_type": "code",
   "execution_count": 5,
   "metadata": {},
   "outputs": [],
   "source": [
    "# NLP processing from the nltk package\n",
    "# Instantiate tokenizer to break text into lists of words\n",
    "#tokenizer = RegexpTokenizer(r'\\w+')\n",
    "tokenizer = RegexpTokenizer(r'[a-zA-Z0-9_@-]+')\n",
    "# Instantiate lemmatizer to turn plural words into singular for better comparison\n",
    "lemmatizer = WordNetLemmatizer()"
   ]
  },
  {
   "cell_type": "code",
   "execution_count": 6,
   "metadata": {},
   "outputs": [],
   "source": [
    "# First let's turn each title into a list of words\n",
    "elon['nlp_text'] = elon.text.apply(lambda x: tokenizer.tokenize(x.lower()))\n",
    "# Then we'll use the lemmatizer to change plurals to singulars to group them\n",
    "elon.nlp_text = elon.nlp_text.apply(lambda x: [lemmatizer.lemmatize(i) for i in x])\n",
    "# And rejoin the lists of words to one string for the count vectorizer\n",
    "elon.nlp_text = elon.nlp_text.apply(lambda x: ' '.join(x))"
   ]
  },
  {
   "cell_type": "code",
   "execution_count": 7,
   "metadata": {},
   "outputs": [
    {
     "data": {
      "text/html": [
       "<div>\n",
       "<style scoped>\n",
       "    .dataframe tbody tr th:only-of-type {\n",
       "        vertical-align: middle;\n",
       "    }\n",
       "\n",
       "    .dataframe tbody tr th {\n",
       "        vertical-align: top;\n",
       "    }\n",
       "\n",
       "    .dataframe thead th {\n",
       "        text-align: right;\n",
       "    }\n",
       "</style>\n",
       "<table border=\"1\" class=\"dataframe\">\n",
       "  <thead>\n",
       "    <tr style=\"text-align: right;\">\n",
       "      <th></th>\n",
       "      <th>text</th>\n",
       "      <th>nlp_text</th>\n",
       "    </tr>\n",
       "  </thead>\n",
       "  <tbody>\n",
       "    <tr>\n",
       "      <th>0</th>\n",
       "      <td>'35,000'</td>\n",
       "      <td>35 000</td>\n",
       "    </tr>\n",
       "    <tr>\n",
       "      <th>1</th>\n",
       "      <td>'And those are just the really big ones. The P...</td>\n",
       "      <td>and those are just the really big one the perm...</td>\n",
       "    </tr>\n",
       "    <tr>\n",
       "      <th>2</th>\n",
       "      <td>'@Justin_Levy04 Safest flamethrower ever'</td>\n",
       "      <td>@justin_levy04 safest flamethrower ever</td>\n",
       "    </tr>\n",
       "    <tr>\n",
       "      <th>3</th>\n",
       "      <td>'I know it\\xe2\\x80\\x99s a little off-brand, bu...</td>\n",
       "      <td>i know it xe2 x80 x99s a little off-brand but ...</td>\n",
       "    </tr>\n",
       "    <tr>\n",
       "      <th>4</th>\n",
       "      <td>'After 50k hats, we will start selling The Bor...</td>\n",
       "      <td>after 50k hat we will start selling the boring...</td>\n",
       "    </tr>\n",
       "    <tr>\n",
       "      <th>5</th>\n",
       "      <td>'Over 30,000 hats sold!'</td>\n",
       "      <td>over 30 000 hat sold</td>\n",
       "    </tr>\n",
       "    <tr>\n",
       "      <th>6</th>\n",
       "      <td>'@tiamaria68uk Plus a towel and a sign saying ...</td>\n",
       "      <td>@tiamaria68uk plus a towel and a sign saying x...</td>\n",
       "    </tr>\n",
       "    <tr>\n",
       "      <th>7</th>\n",
       "      <td>'On Tuesday, SpaceX will attempt to refly both...</td>\n",
       "      <td>on tuesday spacex will attempt to refly both a...</td>\n",
       "    </tr>\n",
       "    <tr>\n",
       "      <th>8</th>\n",
       "      <td>'@tiamaria68uk Yes'</td>\n",
       "      <td>@tiamaria68uk yes</td>\n",
       "    </tr>\n",
       "    <tr>\n",
       "      <th>9</th>\n",
       "      <td>'@FortuneTech Do it'</td>\n",
       "      <td>@fortunetech do it</td>\n",
       "    </tr>\n",
       "  </tbody>\n",
       "</table>\n",
       "</div>"
      ],
      "text/plain": [
       "                                                text  \\\n",
       "0                                           '35,000'   \n",
       "1  'And those are just the really big ones. The P...   \n",
       "2          '@Justin_Levy04 Safest flamethrower ever'   \n",
       "3  'I know it\\xe2\\x80\\x99s a little off-brand, bu...   \n",
       "4  'After 50k hats, we will start selling The Bor...   \n",
       "5                           'Over 30,000 hats sold!'   \n",
       "6  '@tiamaria68uk Plus a towel and a sign saying ...   \n",
       "7  'On Tuesday, SpaceX will attempt to refly both...   \n",
       "8                                '@tiamaria68uk Yes'   \n",
       "9                               '@FortuneTech Do it'   \n",
       "\n",
       "                                            nlp_text  \n",
       "0                                             35 000  \n",
       "1  and those are just the really big one the perm...  \n",
       "2            @justin_levy04 safest flamethrower ever  \n",
       "3  i know it xe2 x80 x99s a little off-brand but ...  \n",
       "4  after 50k hat we will start selling the boring...  \n",
       "5                               over 30 000 hat sold  \n",
       "6  @tiamaria68uk plus a towel and a sign saying x...  \n",
       "7  on tuesday spacex will attempt to refly both a...  \n",
       "8                                  @tiamaria68uk yes  \n",
       "9                                 @fortunetech do it  "
      ]
     },
     "execution_count": 7,
     "metadata": {},
     "output_type": "execute_result"
    }
   ],
   "source": [
    "elon[['text', 'nlp_text']].head(10)"
   ]
  },
  {
   "cell_type": "code",
   "execution_count": 8,
   "metadata": {},
   "outputs": [],
   "source": [
    "elon.nlp_text = elon.nlp_text + ' '\n",
    "elon = elon.groupby('date')['nlp_text'].sum()\n",
    "elon = pd.DataFrame(elon)\n",
    "elon.columns = ['elon_tweet']"
   ]
  },
  {
   "cell_type": "markdown",
   "metadata": {},
   "source": [
    "## Tesla company tweets"
   ]
  },
  {
   "cell_type": "code",
   "execution_count": 9,
   "metadata": {},
   "outputs": [],
   "source": [
    "tesla = pd.read_csv('twitter/Tesla_tweets.csv')"
   ]
  },
  {
   "cell_type": "code",
   "execution_count": 10,
   "metadata": {},
   "outputs": [],
   "source": [
    "tesla.text = tesla.text.str.lstrip('b')\n",
    "tesla.created_at = pd.to_datetime(tesla.created_at)\n",
    "tesla['date'] = tesla.created_at.apply(lambda x: x.date())"
   ]
  },
  {
   "cell_type": "code",
   "execution_count": 11,
   "metadata": {},
   "outputs": [
    {
     "data": {
      "text/html": [
       "<div>\n",
       "<style scoped>\n",
       "    .dataframe tbody tr th:only-of-type {\n",
       "        vertical-align: middle;\n",
       "    }\n",
       "\n",
       "    .dataframe tbody tr th {\n",
       "        vertical-align: top;\n",
       "    }\n",
       "\n",
       "    .dataframe thead th {\n",
       "        text-align: right;\n",
       "    }\n",
       "</style>\n",
       "<table border=\"1\" class=\"dataframe\">\n",
       "  <thead>\n",
       "    <tr style=\"text-align: right;\">\n",
       "      <th></th>\n",
       "      <th>id</th>\n",
       "      <th>created_at</th>\n",
       "      <th>text</th>\n",
       "      <th>date</th>\n",
       "    </tr>\n",
       "  </thead>\n",
       "  <tbody>\n",
       "    <tr>\n",
       "      <th>0</th>\n",
       "      <td>940293634825453568</td>\n",
       "      <td>2017-12-11 18:54:07</td>\n",
       "      <td>'@quizprep We can get this sorted out asap, ca...</td>\n",
       "      <td>2017-12-11</td>\n",
       "    </tr>\n",
       "    <tr>\n",
       "      <th>1</th>\n",
       "      <td>939217750978736128</td>\n",
       "      <td>2017-12-08 19:38:56</td>\n",
       "      <td>'RT @woodhaus2: Early sketch of BAMF #BAMF Sem...</td>\n",
       "      <td>2017-12-08</td>\n",
       "    </tr>\n",
       "    <tr>\n",
       "      <th>2</th>\n",
       "      <td>938970514655035393</td>\n",
       "      <td>2017-12-08 03:16:30</td>\n",
       "      <td>'RT @Mayor_Jeff: Check out the new 20-stall el...</td>\n",
       "      <td>2017-12-08</td>\n",
       "    </tr>\n",
       "    <tr>\n",
       "      <th>3</th>\n",
       "      <td>936700961669517312</td>\n",
       "      <td>2017-12-01 20:58:06</td>\n",
       "      <td>'New study finds regular car dealers are still...</td>\n",
       "      <td>2017-12-01</td>\n",
       "    </tr>\n",
       "    <tr>\n",
       "      <th>4</th>\n",
       "      <td>936475314758098944</td>\n",
       "      <td>2017-12-01 06:01:28</td>\n",
       "      <td>'RT @nytimesworld: \\xe2\\x80\\x9cTesla will get ...</td>\n",
       "      <td>2017-12-01</td>\n",
       "    </tr>\n",
       "  </tbody>\n",
       "</table>\n",
       "</div>"
      ],
      "text/plain": [
       "                   id          created_at  \\\n",
       "0  940293634825453568 2017-12-11 18:54:07   \n",
       "1  939217750978736128 2017-12-08 19:38:56   \n",
       "2  938970514655035393 2017-12-08 03:16:30   \n",
       "3  936700961669517312 2017-12-01 20:58:06   \n",
       "4  936475314758098944 2017-12-01 06:01:28   \n",
       "\n",
       "                                                text        date  \n",
       "0  '@quizprep We can get this sorted out asap, ca...  2017-12-11  \n",
       "1  'RT @woodhaus2: Early sketch of BAMF #BAMF Sem...  2017-12-08  \n",
       "2  'RT @Mayor_Jeff: Check out the new 20-stall el...  2017-12-08  \n",
       "3  'New study finds regular car dealers are still...  2017-12-01  \n",
       "4  'RT @nytimesworld: \\xe2\\x80\\x9cTesla will get ...  2017-12-01  "
      ]
     },
     "execution_count": 11,
     "metadata": {},
     "output_type": "execute_result"
    }
   ],
   "source": [
    "tesla.head()"
   ]
  },
  {
   "cell_type": "code",
   "execution_count": 12,
   "metadata": {},
   "outputs": [],
   "source": [
    "# First let's turn each title into a list of words\n",
    "tesla['nlp_text'] = tesla.text.apply(lambda x: tokenizer.tokenize(x.lower()))\n",
    "# Then we'll use the lemmatizer to change plurals to singulars to group them\n",
    "tesla.nlp_text = tesla.nlp_text.apply(lambda x: [lemmatizer.lemmatize(i) for i in x])\n",
    "# And rejoin the lists of words to one string for the count vectorizer\n",
    "tesla.nlp_text = tesla.nlp_text.apply(lambda x: ' '.join(x))"
   ]
  },
  {
   "cell_type": "code",
   "execution_count": 13,
   "metadata": {},
   "outputs": [
    {
     "data": {
      "text/html": [
       "<div>\n",
       "<style scoped>\n",
       "    .dataframe tbody tr th:only-of-type {\n",
       "        vertical-align: middle;\n",
       "    }\n",
       "\n",
       "    .dataframe tbody tr th {\n",
       "        vertical-align: top;\n",
       "    }\n",
       "\n",
       "    .dataframe thead th {\n",
       "        text-align: right;\n",
       "    }\n",
       "</style>\n",
       "<table border=\"1\" class=\"dataframe\">\n",
       "  <thead>\n",
       "    <tr style=\"text-align: right;\">\n",
       "      <th></th>\n",
       "      <th>text</th>\n",
       "      <th>nlp_text</th>\n",
       "    </tr>\n",
       "  </thead>\n",
       "  <tbody>\n",
       "    <tr>\n",
       "      <th>0</th>\n",
       "      <td>'@quizprep We can get this sorted out asap, ca...</td>\n",
       "      <td>@quizprep we can get this sorted out asap can ...</td>\n",
       "    </tr>\n",
       "    <tr>\n",
       "      <th>1</th>\n",
       "      <td>'RT @woodhaus2: Early sketch of BAMF #BAMF Sem...</td>\n",
       "      <td>rt @woodhaus2 early sketch of bamf bamf semi @...</td>\n",
       "    </tr>\n",
       "    <tr>\n",
       "      <th>2</th>\n",
       "      <td>'RT @Mayor_Jeff: Check out the new 20-stall el...</td>\n",
       "      <td>rt @mayor_jeff check out the new 20-stall elec...</td>\n",
       "    </tr>\n",
       "    <tr>\n",
       "      <th>3</th>\n",
       "      <td>'New study finds regular car dealers are still...</td>\n",
       "      <td>new study find regular car dealer are still tr...</td>\n",
       "    </tr>\n",
       "    <tr>\n",
       "      <th>4</th>\n",
       "      <td>'RT @nytimesworld: \\xe2\\x80\\x9cTesla will get ...</td>\n",
       "      <td>rt @nytimesworld xe2 x80 x9ctesla will get the...</td>\n",
       "    </tr>\n",
       "    <tr>\n",
       "      <th>5</th>\n",
       "      <td>'New @UCSUSA study shows that across the US, d...</td>\n",
       "      <td>new @ucsusa study show that across the u drivi...</td>\n",
       "    </tr>\n",
       "    <tr>\n",
       "      <th>6</th>\n",
       "      <td>'@Seanlocklear15 Jump to around 3:25'</td>\n",
       "      <td>@seanlocklear15 jump to around 3 25</td>\n",
       "    </tr>\n",
       "    <tr>\n",
       "      <th>7</th>\n",
       "      <td>'Model X racing a gasoline sports car while to...</td>\n",
       "      <td>model x racing a gasoline sport car while towi...</td>\n",
       "    </tr>\n",
       "    <tr>\n",
       "      <th>8</th>\n",
       "      <td>'Going into plaid https://t.co/OUU9s7CUwI'</td>\n",
       "      <td>going into plaid http t co ouu9s7cuwi</td>\n",
       "    </tr>\n",
       "    <tr>\n",
       "      <th>9</th>\n",
       "      <td>'BAMF https://t.co/r535Hv4Xz7'</td>\n",
       "      <td>bamf http t co r535hv4xz7</td>\n",
       "    </tr>\n",
       "  </tbody>\n",
       "</table>\n",
       "</div>"
      ],
      "text/plain": [
       "                                                text  \\\n",
       "0  '@quizprep We can get this sorted out asap, ca...   \n",
       "1  'RT @woodhaus2: Early sketch of BAMF #BAMF Sem...   \n",
       "2  'RT @Mayor_Jeff: Check out the new 20-stall el...   \n",
       "3  'New study finds regular car dealers are still...   \n",
       "4  'RT @nytimesworld: \\xe2\\x80\\x9cTesla will get ...   \n",
       "5  'New @UCSUSA study shows that across the US, d...   \n",
       "6              '@Seanlocklear15 Jump to around 3:25'   \n",
       "7  'Model X racing a gasoline sports car while to...   \n",
       "8         'Going into plaid https://t.co/OUU9s7CUwI'   \n",
       "9                     'BAMF https://t.co/r535Hv4Xz7'   \n",
       "\n",
       "                                            nlp_text  \n",
       "0  @quizprep we can get this sorted out asap can ...  \n",
       "1  rt @woodhaus2 early sketch of bamf bamf semi @...  \n",
       "2  rt @mayor_jeff check out the new 20-stall elec...  \n",
       "3  new study find regular car dealer are still tr...  \n",
       "4  rt @nytimesworld xe2 x80 x9ctesla will get the...  \n",
       "5  new @ucsusa study show that across the u drivi...  \n",
       "6                @seanlocklear15 jump to around 3 25  \n",
       "7  model x racing a gasoline sport car while towi...  \n",
       "8              going into plaid http t co ouu9s7cuwi  \n",
       "9                          bamf http t co r535hv4xz7  "
      ]
     },
     "execution_count": 13,
     "metadata": {},
     "output_type": "execute_result"
    }
   ],
   "source": [
    "tesla[['text', 'nlp_text']].head(10)"
   ]
  },
  {
   "cell_type": "code",
   "execution_count": 14,
   "metadata": {},
   "outputs": [],
   "source": [
    "tesla.nlp_text = tesla.nlp_text + ' '\n",
    "tesla = tesla.groupby('date')['nlp_text'].sum()\n",
    "tesla = pd.DataFrame(tesla)\n",
    "tesla.columns = ['tesla_tweet']"
   ]
  },
  {
   "cell_type": "markdown",
   "metadata": {},
   "source": [
    "## Techmeme headlines"
   ]
  },
  {
   "cell_type": "code",
   "execution_count": 15,
   "metadata": {},
   "outputs": [],
   "source": [
    "techmeme = pd.read_csv('web_scraping/techmeme.csv', index_col=0)"
   ]
  },
  {
   "cell_type": "code",
   "execution_count": 16,
   "metadata": {},
   "outputs": [],
   "source": [
    "techmeme['date_time'] = pd.to_datetime(techmeme.date)\n",
    "techmeme.date = techmeme.date_time.apply(lambda x: x.date())\n",
    "techmeme.extra_sources = techmeme.extra_sources.apply(lambda x: ast.literal_eval(x))"
   ]
  },
  {
   "cell_type": "code",
   "execution_count": 17,
   "metadata": {},
   "outputs": [],
   "source": [
    "techmeme['sources'] = techmeme.extra_sources.copy()\n",
    "# Ben helped me with this lovely for loop...\n",
    "for i, list_ in enumerate(techmeme.sources):\n",
    "    list_.append(techmeme.original_source[i])"
   ]
  },
  {
   "cell_type": "code",
   "execution_count": 18,
   "metadata": {},
   "outputs": [],
   "source": [
    "techmeme.original_title = techmeme.original_title.apply(lambda x: x.replace('\\n', ''))\n",
    "techmeme.extra_titles = techmeme.extra_titles.apply(lambda x: x.lstrip('[').rstrip(']'))\n",
    "techmeme['titles'] = techmeme.original_title + ' ' + techmeme.extra_titles"
   ]
  },
  {
   "cell_type": "code",
   "execution_count": 19,
   "metadata": {},
   "outputs": [],
   "source": [
    "# First let's turn each title into a list of words\n",
    "techmeme['nlp_text'] = techmeme.titles.apply(lambda x: tokenizer.tokenize(x.lower()))\n",
    "# Then we'll use the lemmatizer to change plurals to singulars to group them\n",
    "techmeme.nlp_text = techmeme.nlp_text.apply(lambda x: [lemmatizer.lemmatize(i) for i in x])\n",
    "# And rejoin the lists of words to one string for the count vectorizer\n",
    "techmeme.nlp_text = techmeme.nlp_text.apply(lambda x: ' '.join(x))"
   ]
  },
  {
   "cell_type": "code",
   "execution_count": 20,
   "metadata": {},
   "outputs": [],
   "source": [
    "techmeme.columns = ['date', 'original_source', 'original_title', 'extra_sources',\n",
    "       'extra_titles', 'date_time', 'news_sources', 'titles', 'news_text']"
   ]
  },
  {
   "cell_type": "code",
   "execution_count": 21,
   "metadata": {},
   "outputs": [],
   "source": [
    "techmeme.news_text = techmeme.news_text + ' '\n",
    "techmeme = techmeme.groupby('date')['news_sources', 'news_text'].sum()"
   ]
  },
  {
   "cell_type": "markdown",
   "metadata": {},
   "source": [
    "# Combine them onto stock data\n",
    "\n",
    "In merging, I noticed that I was not retaining the same amounts of information.  I realized that since I do not have stock information on weekends, I have nothing to link tweets or news that happens over the weekend.  I should push this to help predict Monday prices, but I am not yet sure how to do that."
   ]
  },
  {
   "cell_type": "code",
   "execution_count": 22,
   "metadata": {},
   "outputs": [],
   "source": [
    "stock = pd.read_csv('TESLAHistoricalQuotes.csv')\n",
    "stock = stock.drop(0,0)\n",
    "stock.date = pd.to_datetime(stock.date)\n",
    "stock.date = stock.date.apply(lambda x: x.date())\n",
    "stock = stock.sort_values('date')\n",
    "stock.volume = stock.volume.astype(float)\n",
    "stock.set_index(stock.date, inplace=True)\n",
    "stock = stock.drop('date', 1)"
   ]
  },
  {
   "cell_type": "code",
   "execution_count": 23,
   "metadata": {},
   "outputs": [],
   "source": [
    "stock = pd.merge(stock, techmeme, how='left', left_index=True, right_index=True)\n",
    "stock = pd.merge(stock, tesla, how='left', left_index=True, right_index=True)\n",
    "stock = pd.merge(stock, elon, how='left', left_index=True, right_index=True)"
   ]
  },
  {
   "cell_type": "code",
   "execution_count": 24,
   "metadata": {},
   "outputs": [
    {
     "data": {
      "text/html": [
       "<div>\n",
       "<style scoped>\n",
       "    .dataframe tbody tr th:only-of-type {\n",
       "        vertical-align: middle;\n",
       "    }\n",
       "\n",
       "    .dataframe tbody tr th {\n",
       "        vertical-align: top;\n",
       "    }\n",
       "\n",
       "    .dataframe thead th {\n",
       "        text-align: right;\n",
       "    }\n",
       "</style>\n",
       "<table border=\"1\" class=\"dataframe\">\n",
       "  <thead>\n",
       "    <tr style=\"text-align: right;\">\n",
       "      <th></th>\n",
       "      <th>close</th>\n",
       "      <th>volume</th>\n",
       "      <th>open</th>\n",
       "      <th>high</th>\n",
       "      <th>low</th>\n",
       "      <th>news_sources</th>\n",
       "      <th>news_text</th>\n",
       "      <th>tesla_tweet</th>\n",
       "      <th>elon_tweet</th>\n",
       "    </tr>\n",
       "    <tr>\n",
       "      <th>date</th>\n",
       "      <th></th>\n",
       "      <th></th>\n",
       "      <th></th>\n",
       "      <th></th>\n",
       "      <th></th>\n",
       "      <th></th>\n",
       "      <th></th>\n",
       "      <th></th>\n",
       "      <th></th>\n",
       "    </tr>\n",
       "  </thead>\n",
       "  <tbody>\n",
       "    <tr>\n",
       "      <th>2017-11-16</th>\n",
       "      <td>312.50</td>\n",
       "      <td>5794409.0</td>\n",
       "      <td>313.99</td>\n",
       "      <td>318.14</td>\n",
       "      <td>311.30</td>\n",
       "      <td>NaN</td>\n",
       "      <td>NaN</td>\n",
       "      <td>NaN</td>\n",
       "      <td>NaN</td>\n",
       "    </tr>\n",
       "    <tr>\n",
       "      <th>2017-11-17</th>\n",
       "      <td>315.05</td>\n",
       "      <td>13720830.0</td>\n",
       "      <td>325.67</td>\n",
       "      <td>326.67</td>\n",
       "      <td>313.15</td>\n",
       "      <td>NaN</td>\n",
       "      <td>NaN</td>\n",
       "      <td>going into plaid http t co ouu9s7cuwi bamf htt...</td>\n",
       "      <td>tesla semi http t co 7vlz7f46ji 0 to 100 km h ...</td>\n",
       "    </tr>\n",
       "    <tr>\n",
       "      <th>2017-11-20</th>\n",
       "      <td>308.74</td>\n",
       "      <td>8241821.0</td>\n",
       "      <td>313.79</td>\n",
       "      <td>315.50</td>\n",
       "      <td>304.75</td>\n",
       "      <td>NaN</td>\n",
       "      <td>NaN</td>\n",
       "      <td>NaN</td>\n",
       "      <td>@schesnais good point</td>\n",
       "    </tr>\n",
       "    <tr>\n",
       "      <th>2017-11-21</th>\n",
       "      <td>317.81</td>\n",
       "      <td>7256381.0</td>\n",
       "      <td>310.86</td>\n",
       "      <td>318.23</td>\n",
       "      <td>308.71</td>\n",
       "      <td>NaN</td>\n",
       "      <td>NaN</td>\n",
       "      <td>NaN</td>\n",
       "      <td>initial hat offering going great w over 300k i...</td>\n",
       "    </tr>\n",
       "    <tr>\n",
       "      <th>2017-11-22</th>\n",
       "      <td>312.60</td>\n",
       "      <td>4913283.0</td>\n",
       "      <td>316.77</td>\n",
       "      <td>317.42</td>\n",
       "      <td>311.84</td>\n",
       "      <td>NaN</td>\n",
       "      <td>NaN</td>\n",
       "      <td>NaN</td>\n",
       "      <td>NaN</td>\n",
       "    </tr>\n",
       "  </tbody>\n",
       "</table>\n",
       "</div>"
      ],
      "text/plain": [
       "             close      volume    open    high     low news_sources news_text  \\\n",
       "date                                                                            \n",
       "2017-11-16  312.50   5794409.0  313.99  318.14  311.30          NaN       NaN   \n",
       "2017-11-17  315.05  13720830.0  325.67  326.67  313.15          NaN       NaN   \n",
       "2017-11-20  308.74   8241821.0  313.79  315.50  304.75          NaN       NaN   \n",
       "2017-11-21  317.81   7256381.0  310.86  318.23  308.71          NaN       NaN   \n",
       "2017-11-22  312.60   4913283.0  316.77  317.42  311.84          NaN       NaN   \n",
       "\n",
       "                                                  tesla_tweet  \\\n",
       "date                                                            \n",
       "2017-11-16                                                NaN   \n",
       "2017-11-17  going into plaid http t co ouu9s7cuwi bamf htt...   \n",
       "2017-11-20                                                NaN   \n",
       "2017-11-21                                                NaN   \n",
       "2017-11-22                                                NaN   \n",
       "\n",
       "                                                   elon_tweet  \n",
       "date                                                           \n",
       "2017-11-16                                                NaN  \n",
       "2017-11-17  tesla semi http t co 7vlz7f46ji 0 to 100 km h ...  \n",
       "2017-11-20                             @schesnais good point   \n",
       "2017-11-21  initial hat offering going great w over 300k i...  \n",
       "2017-11-22                                                NaN  "
      ]
     },
     "execution_count": 24,
     "metadata": {},
     "output_type": "execute_result"
    }
   ],
   "source": [
    "stock.tail()"
   ]
  },
  {
   "cell_type": "markdown",
   "metadata": {},
   "source": [
    "### Note on earliest NLP relevant info\n",
    "1. elon earliest tweet 2013-03-23\n",
    "2. tesla earliest tweet 2014-02-18\n",
    "3. techmeme earliest story 2006-12-07\n",
    "\n",
    "```stock.iloc[915]``` is 2014-02-18"
   ]
  },
  {
   "cell_type": "markdown",
   "metadata": {},
   "source": [
    "# Run ARIMA Model"
   ]
  },
  {
   "cell_type": "code",
   "execution_count": 25,
   "metadata": {},
   "outputs": [
    {
     "data": {
      "text/html": [
       "<table class=\"simpletable\">\n",
       "<caption>Statespace Model Results</caption>\n",
       "<tr>\n",
       "  <th>Dep. Variable:</th>                <td>close</td>             <th>  No. Observations:  </th>   <td>1866</td>   \n",
       "</tr>\n",
       "<tr>\n",
       "  <th>Model:</th>           <td>SARIMAX(1, 1, 3)x(0, 1, 1, 80)</td> <th>  Log Likelihood     </th> <td>-5456.155</td>\n",
       "</tr>\n",
       "<tr>\n",
       "  <th>Date:</th>                   <td>Tue, 19 Dec 2017</td>        <th>  AIC                </th> <td>10924.310</td>\n",
       "</tr>\n",
       "<tr>\n",
       "  <th>Time:</th>                       <td>17:30:53</td>            <th>  BIC                </th> <td>10957.499</td>\n",
       "</tr>\n",
       "<tr>\n",
       "  <th>Sample:</th>                    <td>06-29-2010</td>           <th>  HQIC               </th> <td>10936.539</td>\n",
       "</tr>\n",
       "<tr>\n",
       "  <th></th>                          <td>- 11-22-2017</td>          <th>                     </th>     <td> </td>    \n",
       "</tr>\n",
       "<tr>\n",
       "  <th>Covariance Type:</th>               <td>opg</td>              <th>                     </th>     <td> </td>    \n",
       "</tr>\n",
       "</table>\n",
       "<table class=\"simpletable\">\n",
       "<tr>\n",
       "      <td></td>        <th>coef</th>     <th>std err</th>      <th>z</th>      <th>P>|z|</th>  <th>[0.025</th>    <th>0.975]</th>  \n",
       "</tr>\n",
       "<tr>\n",
       "  <th>ar.L1</th>    <td>    0.2551</td> <td>    0.425</td> <td>    0.601</td> <td> 0.548</td> <td>   -0.577</td> <td>    1.087</td>\n",
       "</tr>\n",
       "<tr>\n",
       "  <th>ma.L1</th>    <td>   -0.2205</td> <td>    0.425</td> <td>   -0.518</td> <td> 0.604</td> <td>   -1.054</td> <td>    0.613</td>\n",
       "</tr>\n",
       "<tr>\n",
       "  <th>ma.L2</th>    <td>    0.0068</td> <td>    0.027</td> <td>    0.253</td> <td> 0.800</td> <td>   -0.046</td> <td>    0.059</td>\n",
       "</tr>\n",
       "<tr>\n",
       "  <th>ma.L3</th>    <td>   -0.0481</td> <td>    0.018</td> <td>   -2.700</td> <td> 0.007</td> <td>   -0.083</td> <td>   -0.013</td>\n",
       "</tr>\n",
       "<tr>\n",
       "  <th>ma.S.L80</th> <td>   -0.9995</td> <td>    2.558</td> <td>   -0.391</td> <td> 0.696</td> <td>   -6.013</td> <td>    4.014</td>\n",
       "</tr>\n",
       "<tr>\n",
       "  <th>sigma2</th>   <td>   22.9819</td> <td>   58.554</td> <td>    0.392</td> <td> 0.695</td> <td>  -91.782</td> <td>  137.746</td>\n",
       "</tr>\n",
       "</table>\n",
       "<table class=\"simpletable\">\n",
       "<tr>\n",
       "  <th>Ljung-Box (Q):</th>          <td>33.16</td> <th>  Jarque-Bera (JB):  </th> <td>1844.42</td>\n",
       "</tr>\n",
       "<tr>\n",
       "  <th>Prob(Q):</th>                <td>0.77</td>  <th>  Prob(JB):          </th>  <td>0.00</td>  \n",
       "</tr>\n",
       "<tr>\n",
       "  <th>Heteroskedasticity (H):</th> <td>40.33</td> <th>  Skew:              </th>  <td>-0.18</td> \n",
       "</tr>\n",
       "<tr>\n",
       "  <th>Prob(H) (two-sided):</th>    <td>0.00</td>  <th>  Kurtosis:          </th>  <td>7.97</td>  \n",
       "</tr>\n",
       "</table>"
      ],
      "text/plain": [
       "<class 'statsmodels.iolib.summary.Summary'>\n",
       "\"\"\"\n",
       "                                 Statespace Model Results                                 \n",
       "==========================================================================================\n",
       "Dep. Variable:                              close   No. Observations:                 1866\n",
       "Model:             SARIMAX(1, 1, 3)x(0, 1, 1, 80)   Log Likelihood               -5456.155\n",
       "Date:                            Tue, 19 Dec 2017   AIC                          10924.310\n",
       "Time:                                    17:30:53   BIC                          10957.499\n",
       "Sample:                                06-29-2010   HQIC                         10936.539\n",
       "                                     - 11-22-2017                                         \n",
       "Covariance Type:                              opg                                         \n",
       "==============================================================================\n",
       "                 coef    std err          z      P>|z|      [0.025      0.975]\n",
       "------------------------------------------------------------------------------\n",
       "ar.L1          0.2551      0.425      0.601      0.548      -0.577       1.087\n",
       "ma.L1         -0.2205      0.425     -0.518      0.604      -1.054       0.613\n",
       "ma.L2          0.0068      0.027      0.253      0.800      -0.046       0.059\n",
       "ma.L3         -0.0481      0.018     -2.700      0.007      -0.083      -0.013\n",
       "ma.S.L80      -0.9995      2.558     -0.391      0.696      -6.013       4.014\n",
       "sigma2        22.9819     58.554      0.392      0.695     -91.782     137.746\n",
       "===================================================================================\n",
       "Ljung-Box (Q):                       33.16   Jarque-Bera (JB):              1844.42\n",
       "Prob(Q):                              0.77   Prob(JB):                         0.00\n",
       "Heteroskedasticity (H):              40.33   Skew:                            -0.18\n",
       "Prob(H) (two-sided):                  0.00   Kurtosis:                         7.97\n",
       "===================================================================================\n",
       "\n",
       "Warnings:\n",
       "[1] Covariance matrix calculated using the outer product of gradients (complex-step).\n",
       "\"\"\""
      ]
     },
     "execution_count": 25,
     "metadata": {},
     "output_type": "execute_result"
    }
   ],
   "source": [
    "mod = sm.tsa.statespace.SARIMAX(stock.close, trend='n', order=(1,1,3), seasonal_order=(0,1,1,80))\n",
    "results = mod.fit()\n",
    "results.summary()"
   ]
  },
  {
   "cell_type": "code",
   "execution_count": 26,
   "metadata": {},
   "outputs": [],
   "source": [
    "stock['forecast'] = results.predict(dynamic=False)"
   ]
  },
  {
   "cell_type": "code",
   "execution_count": 27,
   "metadata": {},
   "outputs": [],
   "source": [
    "stock['next_day_open'] = stock.open.shift(-1) "
   ]
  },
  {
   "cell_type": "code",
   "execution_count": 28,
   "metadata": {},
   "outputs": [],
   "source": [
    "stock['target'] = stock.close.shift(-1)"
   ]
  },
  {
   "cell_type": "markdown",
   "metadata": {},
   "source": [
    "# Use CountVectorizer"
   ]
  },
  {
   "cell_type": "code",
   "execution_count": 29,
   "metadata": {},
   "outputs": [],
   "source": [
    "temp_df = stock[stock.news_text.notnull()]\n",
    "cvec = CountVectorizer(stop_words=stopwords.words('english'), ngram_range=(1,2), max_features=1000)\n",
    "cvec.fit(temp_df.news_text.dropna())\n",
    "cvec_df  = pd.DataFrame(cvec.transform(temp_df.news_text.dropna()).todense(), columns=cvec.get_feature_names())\n",
    "cvec_df.index = temp_df.index\n",
    "cvec_df.columns += \" _news_\"\n",
    "stock = stock.join(cvec_df).drop('news_text',1)\n",
    "\n",
    "temp_df = stock[stock.tesla_tweet.notnull()]\n",
    "cvec.fit(temp_df.tesla_tweet.dropna())\n",
    "cvec_df  = pd.DataFrame(cvec.transform(temp_df.tesla_tweet.dropna()).todense(), columns=cvec.get_feature_names())\n",
    "cvec_df.index = temp_df.index\n",
    "cvec_df.columns += \" _tesla_\"\n",
    "stock = stock.join(cvec_df).drop('tesla_tweet',1)\n",
    "\n",
    "temp_df = stock[stock.elon_tweet.notnull()]\n",
    "cvec.fit(temp_df.elon_tweet.dropna())\n",
    "cvec_df  = pd.DataFrame(cvec.transform(temp_df.elon_tweet.dropna()).todense(), columns=cvec.get_feature_names())\n",
    "cvec_df.index = temp_df.index\n",
    "cvec_df.columns += \" _elon_\"\n",
    "stock = stock.join(cvec_df).drop('elon_tweet',1)\n",
    "\n",
    "del temp_df"
   ]
  },
  {
   "cell_type": "code",
   "execution_count": 30,
   "metadata": {},
   "outputs": [],
   "source": [
    "stock.news_sources = stock.news_sources.fillna('')\n",
    "mlb = MultiLabelBinarizer()\n",
    "stock = stock.join(pd.DataFrame(mlb.fit_transform(stock.news_sources), columns=mlb.classes_, index=stock.index))\n",
    "stock = stock.drop('news_sources', 1)"
   ]
  },
  {
   "cell_type": "code",
   "execution_count": 31,
   "metadata": {},
   "outputs": [],
   "source": [
    "stock = stock.fillna(0)"
   ]
  },
  {
   "cell_type": "code",
   "execution_count": 32,
   "metadata": {},
   "outputs": [
    {
     "data": {
      "text/html": [
       "<div>\n",
       "<style scoped>\n",
       "    .dataframe tbody tr th:only-of-type {\n",
       "        vertical-align: middle;\n",
       "    }\n",
       "\n",
       "    .dataframe tbody tr th {\n",
       "        vertical-align: top;\n",
       "    }\n",
       "\n",
       "    .dataframe thead th {\n",
       "        text-align: right;\n",
       "    }\n",
       "</style>\n",
       "<table border=\"1\" class=\"dataframe\">\n",
       "  <thead>\n",
       "    <tr style=\"text-align: right;\">\n",
       "      <th></th>\n",
       "      <th>close</th>\n",
       "      <th>volume</th>\n",
       "      <th>open</th>\n",
       "      <th>high</th>\n",
       "      <th>low</th>\n",
       "      <th>forecast</th>\n",
       "      <th>next_day_open</th>\n",
       "      <th>target</th>\n",
       "      <th>000 _news_</th>\n",
       "      <th>10 _news_</th>\n",
       "      <th>...</th>\n",
       "      <th>digitaltrends.com</th>\n",
       "      <th>documentcloud.org</th>\n",
       "      <th>everythingiCafe</th>\n",
       "      <th>iDownloadBlog.com</th>\n",
       "      <th>iDownloadBlog.com iDownloadBlog.com</th>\n",
       "      <th>iLounge</th>\n",
       "      <th>iMore</th>\n",
       "      <th>iPhone Hacks</th>\n",
       "      <th>iPhone in Canada Blog</th>\n",
       "      <th>lists.swift.org Mailing Lists</th>\n",
       "    </tr>\n",
       "    <tr>\n",
       "      <th>date</th>\n",
       "      <th></th>\n",
       "      <th></th>\n",
       "      <th></th>\n",
       "      <th></th>\n",
       "      <th></th>\n",
       "      <th></th>\n",
       "      <th></th>\n",
       "      <th></th>\n",
       "      <th></th>\n",
       "      <th></th>\n",
       "      <th></th>\n",
       "      <th></th>\n",
       "      <th></th>\n",
       "      <th></th>\n",
       "      <th></th>\n",
       "      <th></th>\n",
       "      <th></th>\n",
       "      <th></th>\n",
       "      <th></th>\n",
       "      <th></th>\n",
       "      <th></th>\n",
       "    </tr>\n",
       "  </thead>\n",
       "  <tbody>\n",
       "    <tr>\n",
       "      <th>2010-06-29</th>\n",
       "      <td>23.89</td>\n",
       "      <td>18751150.0</td>\n",
       "      <td>19.00</td>\n",
       "      <td>25.0000</td>\n",
       "      <td>17.54</td>\n",
       "      <td>0.000000</td>\n",
       "      <td>25.79</td>\n",
       "      <td>23.83</td>\n",
       "      <td>0.0</td>\n",
       "      <td>0.0</td>\n",
       "      <td>...</td>\n",
       "      <td>0</td>\n",
       "      <td>0</td>\n",
       "      <td>0</td>\n",
       "      <td>0</td>\n",
       "      <td>0</td>\n",
       "      <td>0</td>\n",
       "      <td>0</td>\n",
       "      <td>0</td>\n",
       "      <td>0</td>\n",
       "      <td>0</td>\n",
       "    </tr>\n",
       "    <tr>\n",
       "      <th>2010-06-30</th>\n",
       "      <td>23.83</td>\n",
       "      <td>17165210.0</td>\n",
       "      <td>25.79</td>\n",
       "      <td>30.4192</td>\n",
       "      <td>23.30</td>\n",
       "      <td>23.890019</td>\n",
       "      <td>25.00</td>\n",
       "      <td>21.96</td>\n",
       "      <td>0.0</td>\n",
       "      <td>0.0</td>\n",
       "      <td>...</td>\n",
       "      <td>0</td>\n",
       "      <td>0</td>\n",
       "      <td>0</td>\n",
       "      <td>0</td>\n",
       "      <td>0</td>\n",
       "      <td>0</td>\n",
       "      <td>0</td>\n",
       "      <td>0</td>\n",
       "      <td>0</td>\n",
       "      <td>0</td>\n",
       "    </tr>\n",
       "    <tr>\n",
       "      <th>2010-07-01</th>\n",
       "      <td>21.96</td>\n",
       "      <td>8216789.0</td>\n",
       "      <td>25.00</td>\n",
       "      <td>25.9200</td>\n",
       "      <td>20.27</td>\n",
       "      <td>23.830008</td>\n",
       "      <td>23.00</td>\n",
       "      <td>19.20</td>\n",
       "      <td>0.0</td>\n",
       "      <td>0.0</td>\n",
       "      <td>...</td>\n",
       "      <td>0</td>\n",
       "      <td>0</td>\n",
       "      <td>0</td>\n",
       "      <td>0</td>\n",
       "      <td>0</td>\n",
       "      <td>0</td>\n",
       "      <td>0</td>\n",
       "      <td>0</td>\n",
       "      <td>0</td>\n",
       "      <td>0</td>\n",
       "    </tr>\n",
       "    <tr>\n",
       "      <th>2010-07-02</th>\n",
       "      <td>19.20</td>\n",
       "      <td>5135795.0</td>\n",
       "      <td>23.00</td>\n",
       "      <td>23.1000</td>\n",
       "      <td>18.71</td>\n",
       "      <td>21.959973</td>\n",
       "      <td>20.00</td>\n",
       "      <td>16.11</td>\n",
       "      <td>0.0</td>\n",
       "      <td>0.0</td>\n",
       "      <td>...</td>\n",
       "      <td>0</td>\n",
       "      <td>0</td>\n",
       "      <td>0</td>\n",
       "      <td>0</td>\n",
       "      <td>0</td>\n",
       "      <td>0</td>\n",
       "      <td>0</td>\n",
       "      <td>0</td>\n",
       "      <td>0</td>\n",
       "      <td>0</td>\n",
       "    </tr>\n",
       "    <tr>\n",
       "      <th>2010-07-06</th>\n",
       "      <td>16.11</td>\n",
       "      <td>6858092.0</td>\n",
       "      <td>20.00</td>\n",
       "      <td>20.0000</td>\n",
       "      <td>15.83</td>\n",
       "      <td>19.199988</td>\n",
       "      <td>16.40</td>\n",
       "      <td>15.80</td>\n",
       "      <td>0.0</td>\n",
       "      <td>0.0</td>\n",
       "      <td>...</td>\n",
       "      <td>0</td>\n",
       "      <td>0</td>\n",
       "      <td>0</td>\n",
       "      <td>0</td>\n",
       "      <td>0</td>\n",
       "      <td>0</td>\n",
       "      <td>0</td>\n",
       "      <td>0</td>\n",
       "      <td>0</td>\n",
       "      <td>0</td>\n",
       "    </tr>\n",
       "  </tbody>\n",
       "</table>\n",
       "<p>5 rows × 3306 columns</p>\n",
       "</div>"
      ],
      "text/plain": [
       "            close      volume   open     high    low   forecast  \\\n",
       "date                                                              \n",
       "2010-06-29  23.89  18751150.0  19.00  25.0000  17.54   0.000000   \n",
       "2010-06-30  23.83  17165210.0  25.79  30.4192  23.30  23.890019   \n",
       "2010-07-01  21.96   8216789.0  25.00  25.9200  20.27  23.830008   \n",
       "2010-07-02  19.20   5135795.0  23.00  23.1000  18.71  21.959973   \n",
       "2010-07-06  16.11   6858092.0  20.00  20.0000  15.83  19.199988   \n",
       "\n",
       "            next_day_open  target  000 _news_  10 _news_  \\\n",
       "date                                                       \n",
       "2010-06-29          25.79   23.83         0.0        0.0   \n",
       "2010-06-30          25.00   21.96         0.0        0.0   \n",
       "2010-07-01          23.00   19.20         0.0        0.0   \n",
       "2010-07-02          20.00   16.11         0.0        0.0   \n",
       "2010-07-06          16.40   15.80         0.0        0.0   \n",
       "\n",
       "                        ...                digitaltrends.com  \\\n",
       "date                    ...                                    \n",
       "2010-06-29              ...                                0   \n",
       "2010-06-30              ...                                0   \n",
       "2010-07-01              ...                                0   \n",
       "2010-07-02              ...                                0   \n",
       "2010-07-06              ...                                0   \n",
       "\n",
       "            documentcloud.org  everythingiCafe  iDownloadBlog.com  \\\n",
       "date                                                                \n",
       "2010-06-29                  0                0                  0   \n",
       "2010-06-30                  0                0                  0   \n",
       "2010-07-01                  0                0                  0   \n",
       "2010-07-02                  0                0                  0   \n",
       "2010-07-06                  0                0                  0   \n",
       "\n",
       "            iDownloadBlog.com iDownloadBlog.com  iLounge  iMore  iPhone Hacks  \\\n",
       "date                                                                            \n",
       "2010-06-29                                    0        0      0             0   \n",
       "2010-06-30                                    0        0      0             0   \n",
       "2010-07-01                                    0        0      0             0   \n",
       "2010-07-02                                    0        0      0             0   \n",
       "2010-07-06                                    0        0      0             0   \n",
       "\n",
       "            iPhone in Canada Blog  lists.swift.org Mailing Lists  \n",
       "date                                                              \n",
       "2010-06-29                      0                              0  \n",
       "2010-06-30                      0                              0  \n",
       "2010-07-01                      0                              0  \n",
       "2010-07-02                      0                              0  \n",
       "2010-07-06                      0                              0  \n",
       "\n",
       "[5 rows x 3306 columns]"
      ]
     },
     "execution_count": 32,
     "metadata": {},
     "output_type": "execute_result"
    }
   ],
   "source": [
    "stock.head()"
   ]
  },
  {
   "cell_type": "code",
   "execution_count": 33,
   "metadata": {},
   "outputs": [],
   "source": [
    "from sklearn.model_selection import train_test_split\n",
    "from sklearn.metrics import confusion_matrix, accuracy_score, precision_score, roc_auc_score"
   ]
  },
  {
   "cell_type": "code",
   "execution_count": 34,
   "metadata": {},
   "outputs": [],
   "source": [
    "X_train, X_test, y_train, y_test = train_test_split(stock.drop(['target', 'close', 'open'], 1), stock['target'], test_size=0.3, random_state=42)"
   ]
  },
  {
   "cell_type": "code",
   "execution_count": 35,
   "metadata": {},
   "outputs": [],
   "source": [
    "from sklearn.linear_model import LinearRegression"
   ]
  },
  {
   "cell_type": "code",
   "execution_count": 36,
   "metadata": {},
   "outputs": [],
   "source": [
    "lr = LinearRegression()"
   ]
  },
  {
   "cell_type": "code",
   "execution_count": 37,
   "metadata": {},
   "outputs": [
    {
     "data": {
      "text/plain": [
       "LinearRegression(copy_X=True, fit_intercept=True, n_jobs=1, normalize=False)"
      ]
     },
     "execution_count": 37,
     "metadata": {},
     "output_type": "execute_result"
    }
   ],
   "source": [
    "lr.fit(X_train, y_train)"
   ]
  },
  {
   "cell_type": "code",
   "execution_count": 38,
   "metadata": {},
   "outputs": [],
   "source": [
    "from sklearn.model_selection import cross_val_score, cross_val_predict\n",
    "from sklearn import metrics"
   ]
  },
  {
   "cell_type": "code",
   "execution_count": 39,
   "metadata": {},
   "outputs": [
    {
     "name": "stdout",
     "output_type": "stream",
     "text": [
      "Cross-validated scores: [ -2.13697039e+07  -7.38906389e+07  -1.90998464e+07  -1.94298254e+07\n",
      "  -1.98249349e+08  -1.82890011e+06]\n",
      "Average:  -55644710.655\n"
     ]
    }
   ],
   "source": [
    "scores = cross_val_score(lr, X_train, y_train, cv=6)\n",
    "print(\"Cross-validated scores:\", scores)\n",
    "print(\"Average: \", scores.mean())"
   ]
  },
  {
   "cell_type": "code",
   "execution_count": 40,
   "metadata": {},
   "outputs": [
    {
     "name": "stdout",
     "output_type": "stream",
     "text": [
      "Score: -1177536.34718\n"
     ]
    },
    {
     "data": {
      "image/png": "[encoded data removed]",
      "text/plain": [
       "<matplotlib.figure.Figure at 0x11f2bce48>"
      ]
     },
     "metadata": {},
     "output_type": "display_data"
    }
   ],
   "source": [
    "predictions = lr.predict(X_test)\n",
    "plt.scatter(y_test, predictions)\n",
    "plt.xlabel(\"True Values\")\n",
    "plt.ylabel(\"Predictions\")\n",
    "print(\"Score:\", lr.score(X_test, y_test))\n",
    "plt.show()"
   ]
  },
  {
   "cell_type": "code",
   "execution_count": 41,
   "metadata": {},
   "outputs": [
    {
     "name": "stderr",
     "output_type": "stream",
     "text": [
      "/anaconda/lib/python3.6/site-packages/sklearn/cross_validation.py:41: DeprecationWarning: This module was deprecated in version 0.18 in favor of the model_selection module into which all the refactored classes and functions are moved. Also note that the interface of the new CV iterators are different from that of this module. This module will be removed in 0.20.\n",
      "  \"This module will be removed in 0.20.\", DeprecationWarning)\n"
     ]
    }
   ],
   "source": [
    "from xgboost import XGBRegressor"
   ]
  },
  {
   "cell_type": "code",
   "execution_count": 42,
   "metadata": {},
   "outputs": [],
   "source": [
    "xgb = XGBRegressor(gamma=0, learning_rate=0.02, max_depth=3, n_estimators=100)"
   ]
  },
  {
   "cell_type": "code",
   "execution_count": 43,
   "metadata": {},
   "outputs": [
    {
     "data": {
      "text/plain": [
       "XGBRegressor(base_score=0.5, colsample_bylevel=1, colsample_bytree=1, gamma=0,\n",
       "       learning_rate=0.02, max_delta_step=0, max_depth=3,\n",
       "       min_child_weight=1, missing=None, n_estimators=100, nthread=-1,\n",
       "       objective='reg:linear', reg_alpha=0, reg_lambda=1,\n",
       "       scale_pos_weight=1, seed=0, silent=True, subsample=1)"
      ]
     },
     "execution_count": 43,
     "metadata": {},
     "output_type": "execute_result"
    }
   ],
   "source": [
    "xgb.fit(X_train, y_train)"
   ]
  },
  {
   "cell_type": "code",
   "execution_count": 44,
   "metadata": {},
   "outputs": [
    {
     "name": "stdout",
     "output_type": "stream",
     "text": [
      "Score: 0.94280846105\n"
     ]
    },
    {
     "data": {
      "image/png": "[encoded data removed]",
      "text/plain": [
       "<matplotlib.figure.Figure at 0x118da0da0>"
      ]
     },
     "metadata": {},
     "output_type": "display_data"
    }
   ],
   "source": [
    "predictions = xgb.predict(X_test)\n",
    "plt.scatter(y_test, predictions)\n",
    "plt.xlabel(\"True Values\")\n",
    "plt.ylabel(\"Predictions\")\n",
    "print(\"Score:\", xgb.score(X_test, y_test))\n",
    "plt.show()"
   ]
  },
  {
   "cell_type": "code",
   "execution_count": 45,
   "metadata": {},
   "outputs": [],
   "source": [
    "from sklearn import metrics"
   ]
  },
  {
   "cell_type": "code",
   "execution_count": 48,
   "metadata": {},
   "outputs": [
    {
     "name": "stdout",
     "output_type": "stream",
     "text": [
      "R2 Accuracy: 0.94280846105\n"
     ]
    }
   ],
   "source": [
    "accuracy = metrics.r2_score(y_test, predictions)\n",
    "print(\"R2 Accuracy:\", accuracy)"
   ]
  },
  {
   "cell_type": "code",
   "execution_count": 60,
   "metadata": {},
   "outputs": [
    {
     "name": "stdout",
     "output_type": "stream",
     "text": [
      "MSE: 668.243820278\n"
     ]
    }
   ],
   "source": [
    "print(\"MSE:\", metrics.mean_squared_error(y_test, predictions))"
   ]
  },
  {
   "cell_type": "markdown",
   "metadata": {},
   "source": [
    "Damn!  But, how much is the NLP adding?"
   ]
  },
  {
   "cell_type": "code",
   "execution_count": 58,
   "metadata": {},
   "outputs": [
    {
     "name": "stdout",
     "output_type": "stream",
     "text": [
      "Score: 0.991110951772\n",
      "MSE: 102.352151481\n"
     ]
    },
    {
     "data": {
      "image/png": "[encoded data removed]",
      "text/plain": [
       "<matplotlib.figure.Figure at 0x11f845ac8>"
      ]
     },
     "metadata": {},
     "output_type": "display_data"
    }
   ],
   "source": [
    "plt.scatter(stock.target, stock.forecast)\n",
    "plt.xlabel(\"True Values\")\n",
    "plt.ylabel(\"Predictions\")\n",
    "print(\"Score:\", metrics.r2_score(stock.target, stock.forecast))\n",
    "print(\"MSE:\", metrics.mean_squared_error(stock.target, stock.forecast))\n",
    "plt.show()"
   ]
  },
  {
   "cell_type": "markdown",
   "metadata": {},
   "source": [
    "Hmmmm. I'm guessing my one outlier is just the last observation since it is probably a zero (using .shift() and there being nothing there).  So my SARIMAX model is accurate, but I sort of knew that already."
   ]
  },
  {
   "cell_type": "code",
   "execution_count": 55,
   "metadata": {},
   "outputs": [
    {
     "data": {
      "text/html": [
       "<div>\n",
       "<style scoped>\n",
       "    .dataframe tbody tr th:only-of-type {\n",
       "        vertical-align: middle;\n",
       "    }\n",
       "\n",
       "    .dataframe tbody tr th {\n",
       "        vertical-align: top;\n",
       "    }\n",
       "\n",
       "    .dataframe thead th {\n",
       "        text-align: right;\n",
       "    }\n",
       "</style>\n",
       "<table border=\"1\" class=\"dataframe\">\n",
       "  <thead>\n",
       "    <tr style=\"text-align: right;\">\n",
       "      <th></th>\n",
       "      <th>target</th>\n",
       "      <th>forecast</th>\n",
       "    </tr>\n",
       "    <tr>\n",
       "      <th>date</th>\n",
       "      <th></th>\n",
       "      <th></th>\n",
       "    </tr>\n",
       "  </thead>\n",
       "  <tbody>\n",
       "    <tr>\n",
       "      <th>2017-11-22</th>\n",
       "      <td>0.00</td>\n",
       "      <td>317.326469</td>\n",
       "    </tr>\n",
       "    <tr>\n",
       "      <th>2010-07-06</th>\n",
       "      <td>15.80</td>\n",
       "      <td>19.199988</td>\n",
       "    </tr>\n",
       "    <tr>\n",
       "      <th>2010-07-02</th>\n",
       "      <td>16.11</td>\n",
       "      <td>21.959973</td>\n",
       "    </tr>\n",
       "    <tr>\n",
       "      <th>2010-07-09</th>\n",
       "      <td>17.05</td>\n",
       "      <td>17.460010</td>\n",
       "    </tr>\n",
       "    <tr>\n",
       "      <th>2010-07-08</th>\n",
       "      <td>17.40</td>\n",
       "      <td>15.800004</td>\n",
       "    </tr>\n",
       "  </tbody>\n",
       "</table>\n",
       "</div>"
      ],
      "text/plain": [
       "            target    forecast\n",
       "date                          \n",
       "2017-11-22    0.00  317.326469\n",
       "2010-07-06   15.80   19.199988\n",
       "2010-07-02   16.11   21.959973\n",
       "2010-07-09   17.05   17.460010\n",
       "2010-07-08   17.40   15.800004"
      ]
     },
     "execution_count": 55,
     "metadata": {},
     "output_type": "execute_result"
    }
   ],
   "source": [
    "stock[['target', 'forecast']].sort_values('target').head()\n",
    "# YUP, last entry"
   ]
  },
  {
   "cell_type": "code",
   "execution_count": 59,
   "metadata": {},
   "outputs": [
    {
     "name": "stdout",
     "output_type": "stream",
     "text": [
      "Score: 0.995793097015\n",
      "MSE: 48.414491673\n"
     ]
    }
   ],
   "source": [
    "print(\"Score:\", metrics.r2_score(stock.iloc[:-1].target, stock.iloc[:-1].forecast))\n",
    "print(\"MSE:\", metrics.mean_squared_error(stock.iloc[:-1].target, stock.iloc[:-1].forecast))"
   ]
  },
  {
   "cell_type": "markdown",
   "metadata": {},
   "source": [
    "And if I predicted the entirety with XGB:"
   ]
  },
  {
   "cell_type": "code",
   "execution_count": 63,
   "metadata": {},
   "outputs": [
    {
     "name": "stdout",
     "output_type": "stream",
     "text": [
      "MSE: 650.015530157\n"
     ]
    }
   ],
   "source": [
    "print(\"MSE:\", metrics.mean_squared_error(stock.target, xgb.predict(stock.drop(['target', 'close', 'open'], 1))))"
   ]
  }
 ],
 "metadata": {
  "kernelspec": {
   "display_name": "Python 3",
   "language": "python",
   "name": "python3"
  },
  "language_info": {
   "codemirror_mode": {
    "name": "ipython",
    "version": 3
   },
   "file_extension": ".py",
   "mimetype": "text/x-python",
   "name": "python",
   "nbconvert_exporter": "python",
   "pygments_lexer": "ipython3",
   "version": "3.6.3"
  }
 },
 "nbformat": 4,
 "nbformat_minor": 2
}
